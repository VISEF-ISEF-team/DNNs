{
 "cells": [
  {
   "cell_type": "code",
   "execution_count": 1,
   "metadata": {},
   "outputs": [],
   "source": [
    "import numpy as np\n",
    "import SimpleITK as sitk\n",
    "from skimage.transform import resize as skires\n",
    "from supporters import *"
   ]
  },
  {
   "cell_type": "code",
   "execution_count": null,
   "metadata": {},
   "outputs": [],
   "source": [
    "def resize_vol(vol, new_size):\n",
    "    return skires(vol, new_size, order=1, preserve_range=True, anti_aliasing=False)"
   ]
  },
  {
   "cell_type": "code",
   "execution_count": null,
   "metadata": {},
   "outputs": [],
   "source": [
    "def seperate_classes(img):\n",
    "    unique_values, _ = np.unique(img, return_counts=True)\n",
    "    vol = []\n",
    "    for value in unique_values: \n",
    "        label_array = np.copy(img) \n",
    "        label_array[np.where(label_array != value)] = 0 \n",
    "        vol.append(label_array)\n",
    "    return vol"
   ]
  },
  {
   "cell_type": "code",
   "execution_count": null,
   "metadata": {},
   "outputs": [],
   "source": [
    "def resize_label(label, new_size):\n",
    "    vol_label = seperate_classes(label)\n",
    "    for index in range(len(vol_label)):\n",
    "        temp = vol_label[index]\n",
    "        temp[np.where(temp != 0)] = 1\n",
    "        temp = resize_vol(temp, new_size).astype(np.int8)\n",
    "        vol_label[index] = temp\n",
    "        \n",
    "    vol_label = np.stack(vol_label, axis=0)\n",
    "    vol_label = np.argmax(vol_label, axis=0)\n",
    "    return vol_label\n",
    "\n",
    "\n",
    "label = sitk.GetArrayFromImage(sitk.ReadImage('../data/imagechd/labels/0001.nii.gz'))\n",
    "label = resize_label(label, new_size=(256,256,256))\n",
    "explore_3D_array(label)"
   ]
  },
  {
   "cell_type": "code",
   "execution_count": 2,
   "metadata": {},
   "outputs": [
    {
     "data": {
      "text/plain": [
       "4095"
      ]
     },
     "execution_count": 2,
     "metadata": {},
     "output_type": "execute_result"
    }
   ],
   "source": [
    "image = sitk.GetArrayFromImage(sitk.ReadImage('../data/imagechd/images/0001.nii.gz'))\n",
    "np.max(image)"
   ]
  },
  {
   "cell_type": "code",
   "execution_count": 4,
   "metadata": {},
   "outputs": [
    {
     "data": {
      "text/plain": [
       "4095"
      ]
     },
     "execution_count": 4,
     "metadata": {},
     "output_type": "execute_result"
    }
   ],
   "source": [
    "image = image[np.newaxis, :, :, :]\n",
    "np.max(image)"
   ]
  }
 ],
 "metadata": {
  "kernelspec": {
   "display_name": "tor",
   "language": "python",
   "name": "python3"
  },
  "language_info": {
   "codemirror_mode": {
    "name": "ipython",
    "version": 3
   },
   "file_extension": ".py",
   "mimetype": "text/x-python",
   "name": "python",
   "nbconvert_exporter": "python",
   "pygments_lexer": "ipython3",
   "version": "3.9.19"
  }
 },
 "nbformat": 4,
 "nbformat_minor": 2
}
